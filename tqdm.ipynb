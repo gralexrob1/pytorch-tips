{
 "cells": [
  {
   "cell_type": "code",
   "execution_count": null,
   "metadata": {},
   "outputs": [],
   "source": [
    "from tqdm import tqdm "
   ]
  },
  {
   "cell_type": "code",
   "execution_count": null,
   "metadata": {},
   "outputs": [],
   "source": [
    "# Inside an epoch\n",
    "\n",
    "total_iterations_limit = 100\n",
    "loss_sum = 0\n",
    "num_iterations = 0\n",
    "\n",
    "data_iterator = tqdm(data_loader, desc=f'Training')\n",
    "\n",
    "if total_iterations_limit is not None:\n",
    "    data_iterator.total = total_iterations_limit\n",
    "\n",
    "for data in data_iterator:\n",
    "    num_iterations += 1\n",
    "                \n",
    "    ### ... ###\n",
    "\n",
    "    loss = # ... \n",
    "    loss_sum += loss.item()\n",
    "    avg_loss = loss_sum / num_iterations\n",
    "\n",
    "    data_iterator.set_postfix(loss=avg_loss)\n",
    "\n"
   ]
  }
 ],
 "metadata": {
  "language_info": {
   "name": "python"
  }
 },
 "nbformat": 4,
 "nbformat_minor": 2
}
