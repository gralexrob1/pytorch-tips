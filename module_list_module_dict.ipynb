{
 "cells": [
  {
   "cell_type": "code",
   "execution_count": null,
   "metadata": {},
   "outputs": [],
   "source": [
    "import torch\n",
    "import torch.nn as nn\n",
    "\n",
    "class DynamicNet(nn.Module):\n",
    "    def __init__(self):\n",
    "        super(DynamicNet, self).__init__()\n",
    "        self.layers = nn.ModuleList([\n",
    "            nn.Linear(10, 20),\n",
    "            nn.ReLU(),\n",
    "            nn.Linear(20, 10),\n",
    "        ])\n",
    "    \n",
    "    def forward(self, x):\n",
    "        for layer in self.layers:\n",
    "            x = layer(x)\n",
    "        return x"
   ]
  },
  {
   "cell_type": "code",
   "execution_count": null,
   "metadata": {},
   "outputs": [],
   "source": [
    "import torch\n",
    "import torch.nn as nn\n",
    "\n",
    "class DynamicDictNet(nn.Module):\n",
    "  def __init__(self):\n",
    "    super(DynamicDictNet, self).__init__()\n",
    "    self.layers = nn.ModuleDict({\n",
    "    'linear': nn.Linear(10, 20),\n",
    "    'activation': nn.ReLU(),\n",
    "    'output': nn.Linear(20, 10),\n",
    "    })\n",
    "\n",
    "  def forward(self, x):\n",
    "    x = self.layers['linear'](x)\n",
    "    x = self.layers['activation'](x)\n",
    "    x = self.layers['output'](x)\n",
    "    return x"
   ]
  }
 ],
 "metadata": {
  "language_info": {
   "name": "python"
  }
 },
 "nbformat": 4,
 "nbformat_minor": 2
}
