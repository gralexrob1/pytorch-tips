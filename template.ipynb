{
 "cells": [
  {
   "cell_type": "code",
   "execution_count": null,
   "metadata": {},
   "outputs": [],
   "source": [
    "import numpy as np\n",
    "\n",
    "import torch\n",
    "from tqdm import tqdm \n"
   ]
  },
  {
   "cell_type": "code",
   "execution_count": null,
   "metadata": {},
   "outputs": [],
   "source": [
    "# Examples of batch processing\n",
    "\n",
    "def process_batch_features(batch):\n",
    "    return batch.x\n",
    "    return batch.x, batch.edge_index\n",
    "    return batch.x.view(-1, 28, 28)\n",
    "\n",
    "def process_batch_labels(batch):\n",
    "     return batch.y\n"
   ]
  },
  {
   "cell_type": "code",
   "execution_count": null,
   "metadata": {},
   "outputs": [],
   "source": [
    "def train_epoch(model, loss_f, optimizer, data_loader, device):\n",
    "\n",
    "    model.train()\n",
    "\n",
    "    data_iterator = tqdm(data_loader, desc='Training')\n",
    "    losses = []\n",
    "\n",
    "    for data in data_iterator:\n",
    "\n",
    "        data.to(device)\n",
    "        features = process_batch_features(data)\n",
    "        labels = process_batch_labels(data)\n",
    "\n",
    "        optimizer.zero_grad()\n",
    "        output = model(*features)\n",
    "        loss = loss_f(output, labels)\n",
    "        loss.backward()\n",
    "        optimizer.step()\n",
    "\n",
    "        losses.append(loss.item())\n",
    "        data_iterator.set_postfix(loss=np.mean(losses))\n",
    "\n",
    "        return np.array(losses)\n",
    "\n",
    "\n",
    "def eval_epoch(model, loss_f, score_f, data_loader, device):\n",
    "\n",
    "    model.eval()\n",
    "\n",
    "    data_iterator = tqdm(data_loader, desc='Validation')\n",
    "    losses = []\n",
    "    scores = []\n",
    "\n",
    "    for data in data_iterator:\n",
    "\n",
    "        data.to(device)\n",
    "        features = process_batch_features(data)\n",
    "        labels = process_batch_labels(data)\n",
    "\n",
    "        with torch.no_grad():\n",
    "            output = model(*features)\n",
    "            loss = loss_f(output, labels)\n",
    "            # switch to CPU\n",
    "            score = score(output, labels)\n",
    "\n",
    "        losses.append(loss)\n",
    "        scores.append(score)\n",
    "\n",
    "    return np.array(losses), np.array(scores)"
   ]
  },
  {
   "cell_type": "code",
   "execution_count": null,
   "metadata": {},
   "outputs": [],
   "source": [
    "def train(\n",
    "    model, loss_f, optimizer, score_f,\n",
    "    train_dataloader, val_dataloader, device,\n",
    "    epoch_n, val_freq\n",
    "):\n",
    "\n",
    "    scores = []\n",
    "\n",
    "    for epoch in range(epoch_n):\n",
    "\n",
    "        epoch_losses = train_epoch(train_dataloader, model, loss_f, optimizer, device)\n",
    "        print(\"Epoch {:05d} | Loss: {:.4f}\".format(epoch + 1, epoch_losses.mean()))\n",
    "\n",
    "        if epoch % val_freq == 0:\n",
    "            epoch_losses, epoch_scores = eval_epoch(model, loss_f, score_f, val_dataloader, device)\n",
    "            print(\"Score: {:.4f}\".format(scores.mean()))\n",
    "            scores.append(epoch_scores)\n",
    "\n",
    "    return scores"
   ]
  }
 ],
 "metadata": {
  "kernelspec": {
   "display_name": "Python 3",
   "language": "python",
   "name": "python3"
  },
  "language_info": {
   "codemirror_mode": {
    "name": "ipython",
    "version": 3
   },
   "file_extension": ".py",
   "mimetype": "text/x-python",
   "name": "python",
   "nbconvert_exporter": "python",
   "pygments_lexer": "ipython3",
   "version": "3.11.5"
  }
 },
 "nbformat": 4,
 "nbformat_minor": 2
}
